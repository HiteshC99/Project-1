{
  "metadata": {
    "kernelspec": {
      "name": "python",
      "display_name": "Pyolite",
      "language": "python"
    },
    "language_info": {
      "codemirror_mode": {
        "name": "python",
        "version": 3
      },
      "file_extension": ".py",
      "mimetype": "text/x-python",
      "name": "python",
      "nbconvert_exporter": "python",
      "pygments_lexer": "ipython3",
      "version": "3.8"
    }
  },
  "nbformat_minor": 4,
  "nbformat": 4,
  "cells": [
    {
      "cell_type": "markdown",
      "source": " # My Jupyter Notebook on IBM Watson Studio\n",
      "metadata": {}
    },
    {
      "cell_type": "markdown",
      "source": "**Hitesh Chakravarti**",
      "metadata": {}
    },
    {
      "cell_type": "markdown",
      "source": "Senior Data Analyst",
      "metadata": {}
    },
    {
      "cell_type": "markdown",
      "source": " *I am interested in data science because I love finding insights and meaning outcome and help business take data driven decisions*",
      "metadata": {}
    },
    {
      "cell_type": "markdown",
      "source": "***This Code helps us with Addition***",
      "metadata": {}
    },
    {
      "cell_type": "code",
      "source": " x = 5 \n y = 10.\n print(x + y)",
      "metadata": {
        "trusted": true
      },
      "execution_count": 4,
      "outputs": [
        {
          "name": "stdout",
          "text": "15.0\n",
          "output_type": "stream"
        }
      ]
    },
    {
      "cell_type": "code",
      "source": "",
      "metadata": {},
      "execution_count": null,
      "outputs": []
    }
  ]
}